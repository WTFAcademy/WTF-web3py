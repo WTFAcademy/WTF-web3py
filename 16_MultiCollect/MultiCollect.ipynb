{
 "cells": [
  {
   "cell_type": "code",
   "execution_count": 1,
   "metadata": {},
   "outputs": [
    {
     "name": "stdout",
     "output_type": "stream",
     "text": [
      "1. 创建provider和wallet，其中wallet是接收资产的钱包。\n"
     ]
    },
    {
     "data": {
      "text/plain": [
       "'0x338f8891D6BdC58eEB4754352459cC461EfD2a5E'"
      ]
     },
     "execution_count": 1,
     "metadata": {},
     "output_type": "execute_result"
    }
   ],
   "source": [
    "# 1. 创建provider和wallet，其中wallet是接收资产的钱包。\n",
    "print(\"1. 创建provider和wallet，其中wallet是接收资产的钱包。\")\n",
    "\n",
    "from web3 import Web3\n",
    "w3 = Web3(Web3.HTTPProvider('https://goerli.infura.io/v3/5be23a050401499fb951be2e12178e01'))\n",
    "\n",
    "private_key = \"0x21ac72b6ce19661adf31ef0d2bf8c3fcad003deee3dc1a1a64f5fa3d6b049c06\"\n",
    "account = w3.eth.account.from_key(private_key)\n",
    "account.address"
   ]
  },
  {
   "cell_type": "code",
   "execution_count": 3,
   "metadata": {},
   "outputs": [
    {
     "name": "stdout",
     "output_type": "stream",
     "text": [
      "2. 创建HD钱包，用于管理多个钱包。\n"
     ]
    }
   ],
   "source": [
    "# 2. 创建HD钱包，用于管理多个钱包。\n",
    "print(\"2. 创建HD钱包，用于管理多个钱包。\")\n",
    "\n",
    "mnemonic = \"air organ twist rule prison symptom jazz cheap rather dizzy verb glare jeans orbit weapon universe require tired sing casino business anxiety seminar hunt\"\n",
    "w3.eth.account.enable_unaudited_hdwallet_features()\n"
   ]
  },
  {
   "cell_type": "code",
   "execution_count": 6,
   "metadata": {},
   "outputs": [
    {
     "name": "stdout",
     "output_type": "stream",
     "text": [
      "3. 利用HD钱包，生成10个钱包地址。\n"
     ]
    },
    {
     "data": {
      "text/plain": [
       "[<eth_account.signers.local.LocalAccount at 0x7f99c379aa60>,\n",
       " <eth_account.signers.local.LocalAccount at 0x7f99c12e12e0>,\n",
       " <eth_account.signers.local.LocalAccount at 0x7f99c132e340>,\n",
       " <eth_account.signers.local.LocalAccount at 0x7f99c132e220>,\n",
       " <eth_account.signers.local.LocalAccount at 0x7f99d18cc6d0>,\n",
       " <eth_account.signers.local.LocalAccount at 0x7f99d18cc550>,\n",
       " <eth_account.signers.local.LocalAccount at 0x7f99d18cc250>,\n",
       " <eth_account.signers.local.LocalAccount at 0x7f99d18cc850>,\n",
       " <eth_account.signers.local.LocalAccount at 0x7f99d18ccdc0>,\n",
       " <eth_account.signers.local.LocalAccount at 0x7f99d18ccf40>]"
      ]
     },
     "execution_count": 6,
     "metadata": {},
     "output_type": "execute_result"
    }
   ],
   "source": [
    "# 3. 利用HD钱包，生成10个钱包地址。\n",
    "print(\"3. 利用HD钱包，生成10个钱包地址。\")\n",
    "\n",
    "addresses = []\n",
    "for i in range(10):\n",
    "    address = w3.eth.account.from_mnemonic(mnemonic, account_path=f\"m/44'/60'/0'/0/{i}\")\n",
    "    addresses.append(address)\n",
    "addresses"
   ]
  },
  {
   "cell_type": "code",
   "execution_count": 5,
   "metadata": {},
   "outputs": [
    {
     "name": "stdout",
     "output_type": "stream",
     "text": [
      "4. 读取一个地址的ETH余额。\n",
      "300000000000000\n"
     ]
    }
   ],
   "source": [
    "# 4. 读取一个地址的ETH余额。\n",
    "print(\"4. 读取一个地址的ETH余额。\")\n",
    "\n",
    "# 目标地址\n",
    "target_address = addresses[3]\n",
    "\n",
    "# 读取 ETH 余额\n",
    "balanceETH = w3.eth.get_balance(target_address)\n",
    "\n",
    "print(balanceETH)"
   ]
  },
  {
   "cell_type": "code",
   "execution_count": 14,
   "metadata": {},
   "outputs": [
    {
     "name": "stdout",
     "output_type": "stream",
     "text": [
      "5. 利用钱包类的sendTransaction()发送交易，归集每个钱包中的ETH。\n",
      "第 1 个钱包 0x83E5B09c54C4EB904B9bC842Acab9218c2297d6d ETH 归集开始\n",
      "第 2 个钱包 0xF44F814ABa3e6BC091487Cf313B49F109550d086 ETH 归集开始\n",
      "第 3 个钱包 0xC08A302438EaA60adE93196A527A837AA1CA5A3f ETH 归集开始\n",
      "第 4 个钱包 0x57171534c9616bB635351deB9d4AA009Fc0d6931 ETH 归集开始\n",
      "第 5 个钱包 0xFECb70fD6b9414ff7B58C6989D44AFA4a0511D6d ETH 归集开始\n"
     ]
    },
    {
     "ename": "TimeExhausted",
     "evalue": "Transaction HexBytes('0xbe08723f60699d146e7d2a7e8edf18dfbb2ec1259a5052604f6162df8adc1277') is not in the chain after 120 seconds",
     "output_type": "error",
     "traceback": [
      "\u001b[0;31m---------------------------------------------------------------------------\u001b[0m",
      "\u001b[0;31mTimeout\u001b[0m                                   Traceback (most recent call last)",
      "\u001b[0;32m~/opt/anaconda3/lib/python3.9/site-packages/web3/eth/eth.py\u001b[0m in \u001b[0;36mwait_for_transaction_receipt\u001b[0;34m(self, transaction_hash, timeout, poll_latency)\u001b[0m\n\u001b[1;32m    473\u001b[0m                         \u001b[0;32mbreak\u001b[0m\u001b[0;34m\u001b[0m\u001b[0;34m\u001b[0m\u001b[0m\n\u001b[0;32m--> 474\u001b[0;31m                     \u001b[0m_timeout\u001b[0m\u001b[0;34m.\u001b[0m\u001b[0msleep\u001b[0m\u001b[0;34m(\u001b[0m\u001b[0mpoll_latency\u001b[0m\u001b[0;34m)\u001b[0m\u001b[0;34m\u001b[0m\u001b[0;34m\u001b[0m\u001b[0m\n\u001b[0m\u001b[1;32m    475\u001b[0m             \u001b[0;32mreturn\u001b[0m \u001b[0mtx_receipt\u001b[0m\u001b[0;34m\u001b[0m\u001b[0;34m\u001b[0m\u001b[0m\n",
      "\u001b[0;32m~/opt/anaconda3/lib/python3.9/site-packages/web3/_utils/threads.py\u001b[0m in \u001b[0;36msleep\u001b[0;34m(self, seconds)\u001b[0m\n\u001b[1;32m     98\u001b[0m         \u001b[0mtime\u001b[0m\u001b[0;34m.\u001b[0m\u001b[0msleep\u001b[0m\u001b[0;34m(\u001b[0m\u001b[0mseconds\u001b[0m\u001b[0;34m)\u001b[0m\u001b[0;34m\u001b[0m\u001b[0;34m\u001b[0m\u001b[0m\n\u001b[0;32m---> 99\u001b[0;31m         \u001b[0mself\u001b[0m\u001b[0;34m.\u001b[0m\u001b[0mcheck\u001b[0m\u001b[0;34m(\u001b[0m\u001b[0;34m)\u001b[0m\u001b[0;34m\u001b[0m\u001b[0;34m\u001b[0m\u001b[0m\n\u001b[0m\u001b[1;32m    100\u001b[0m \u001b[0;34m\u001b[0m\u001b[0m\n",
      "\u001b[0;32m~/opt/anaconda3/lib/python3.9/site-packages/web3/_utils/threads.py\u001b[0m in \u001b[0;36mcheck\u001b[0;34m(self)\u001b[0m\n\u001b[1;32m     91\u001b[0m             \u001b[0;32melse\u001b[0m\u001b[0;34m:\u001b[0m\u001b[0;34m\u001b[0m\u001b[0;34m\u001b[0m\u001b[0m\n\u001b[0;32m---> 92\u001b[0;31m                 \u001b[0;32mraise\u001b[0m \u001b[0mself\u001b[0m\u001b[0;34m\u001b[0m\u001b[0;34m\u001b[0m\u001b[0m\n\u001b[0m\u001b[1;32m     93\u001b[0m \u001b[0;34m\u001b[0m\u001b[0m\n",
      "\u001b[0;31mTimeout\u001b[0m: 120 seconds",
      "\nDuring handling of the above exception, another exception occurred:\n",
      "\u001b[0;31mTimeExhausted\u001b[0m                             Traceback (most recent call last)",
      "\u001b[0;32m/var/folders/c1/03136d3x6vx54k1qf754sjj00000gn/T/ipykernel_57388/828982655.py\u001b[0m in \u001b[0;36m<module>\u001b[0;34m\u001b[0m\n\u001b[1;32m     18\u001b[0m     \u001b[0msigned_tx\u001b[0m \u001b[0;34m=\u001b[0m \u001b[0mwallet\u001b[0m\u001b[0;34m.\u001b[0m\u001b[0msign_transaction\u001b[0m\u001b[0;34m(\u001b[0m\u001b[0mtx\u001b[0m\u001b[0;34m)\u001b[0m\u001b[0;34m\u001b[0m\u001b[0;34m\u001b[0m\u001b[0m\n\u001b[1;32m     19\u001b[0m     \u001b[0mtx_hash\u001b[0m \u001b[0;34m=\u001b[0m \u001b[0mw3\u001b[0m\u001b[0;34m.\u001b[0m\u001b[0meth\u001b[0m\u001b[0;34m.\u001b[0m\u001b[0msend_raw_transaction\u001b[0m\u001b[0;34m(\u001b[0m\u001b[0msigned_tx\u001b[0m\u001b[0;34m.\u001b[0m\u001b[0mrawTransaction\u001b[0m\u001b[0;34m)\u001b[0m\u001b[0;34m\u001b[0m\u001b[0;34m\u001b[0m\u001b[0m\n\u001b[0;32m---> 20\u001b[0;31m     \u001b[0mtx_receipt\u001b[0m \u001b[0;34m=\u001b[0m \u001b[0mw3\u001b[0m\u001b[0;34m.\u001b[0m\u001b[0meth\u001b[0m\u001b[0;34m.\u001b[0m\u001b[0mwait_for_transaction_receipt\u001b[0m\u001b[0;34m(\u001b[0m\u001b[0mtx_hash\u001b[0m\u001b[0;34m)\u001b[0m\u001b[0;34m\u001b[0m\u001b[0;34m\u001b[0m\u001b[0m\n\u001b[0m\u001b[1;32m     21\u001b[0m \u001b[0;34m\u001b[0m\u001b[0m\n\u001b[1;32m     22\u001b[0m     \u001b[0mprint\u001b[0m\u001b[0;34m(\u001b[0m\u001b[0;34mf\"第 {i+1} 个钱包 {addresses[i].address} ETH 归集开始\"\u001b[0m\u001b[0;34m)\u001b[0m\u001b[0;34m\u001b[0m\u001b[0;34m\u001b[0m\u001b[0m\n",
      "\u001b[0;32m~/opt/anaconda3/lib/python3.9/site-packages/web3/eth/eth.py\u001b[0m in \u001b[0;36mwait_for_transaction_receipt\u001b[0;34m(self, transaction_hash, timeout, poll_latency)\u001b[0m\n\u001b[1;32m    476\u001b[0m \u001b[0;34m\u001b[0m\u001b[0m\n\u001b[1;32m    477\u001b[0m         \u001b[0;32mexcept\u001b[0m \u001b[0mTimeout\u001b[0m\u001b[0;34m:\u001b[0m\u001b[0;34m\u001b[0m\u001b[0;34m\u001b[0m\u001b[0m\n\u001b[0;32m--> 478\u001b[0;31m             raise TimeExhausted(\n\u001b[0m\u001b[1;32m    479\u001b[0m                 \u001b[0;34mf\"Transaction {HexBytes(transaction_hash) !r} is not in the chain \"\u001b[0m\u001b[0;34m\u001b[0m\u001b[0;34m\u001b[0m\u001b[0m\n\u001b[1;32m    480\u001b[0m                 \u001b[0;34mf\"after {timeout} seconds\"\u001b[0m\u001b[0;34m\u001b[0m\u001b[0;34m\u001b[0m\u001b[0m\n",
      "\u001b[0;31mTimeExhausted\u001b[0m: Transaction HexBytes('0xbe08723f60699d146e7d2a7e8edf18dfbb2ec1259a5052604f6162df8adc1277') is not in the chain after 120 seconds"
     ]
    }
   ],
   "source": [
    "# 5. 利用钱包类的send_raw_transaction()发送交易，归集每个钱包中的ETH。\n",
    "print(\"5. 利用钱包类的send_raw_transaction()发送交易，归集每个钱包中的ETH。\")\n",
    "\n",
    "for i in range(10):\n",
    "    # 设置钱包私钥\n",
    "    wallet = w3.eth.account.from_key(addresses[i].key)\n",
    "\n",
    "    # 准备交易数据\n",
    "    tx = {\n",
    "        'to': account.address,\n",
    "        'value': w3.to_wei(0.0001, \"ether\"),\n",
    "        'gas': 2000000,  \n",
    "        'nonce': w3.eth.get_transaction_count(addresses[i].address),\n",
    "        'gasPrice': w3.eth.gas_price\n",
    "    }\n",
    "\n",
    "    # 签名并发送交易\n",
    "    signed_tx = wallet.sign_transaction(tx)\n",
    "    tx_hash = w3.eth.send_raw_transaction(signed_tx.rawTransaction)\n",
    "    tx_receipt = w3.eth.wait_for_transaction_receipt(tx_hash)\n",
    "\n",
    "    print(f\"第 {i+1} 个钱包 {addresses[i].address} ETH 归集开始\")\n",
    "\n",
    "print(\"ETH 归集结束\")"
   ]
  },
  {
   "cell_type": "code",
   "execution_count": 16,
   "metadata": {},
   "outputs": [
    {
     "name": "stdout",
     "output_type": "stream",
     "text": [
      "6. 读取一个地址在归集后的ETH和WETH余额，可以看到ETH和WETH余额减少，归集成功！\n",
      "转账后余额： 99998943595000\n"
     ]
    }
   ],
   "source": [
    "# 6. 读取一个地址在归集后的ETH和WETH余额，可以看到ETH和WETH余额减少，归集成功！\n",
    "print(\"6. 读取一个地址在归集后的ETH和WETH余额，可以看到ETH和WETH余额减少，归集成功！\")\n",
    "balanceETH2 = w3.eth.get_balance(addresses[3].address)\n",
    "print(\"转账后余额：\", balanceETH2)"
   ]
  },
  {
   "cell_type": "code",
   "execution_count": null,
   "metadata": {},
   "outputs": [],
   "source": []
  }
 ],
 "metadata": {
  "kernelspec": {
   "display_name": "base",
   "language": "python",
   "name": "python3"
  },
  "language_info": {
   "codemirror_mode": {
    "name": "ipython",
    "version": 3
   },
   "file_extension": ".py",
   "mimetype": "text/x-python",
   "name": "python",
   "nbconvert_exporter": "python",
   "pygments_lexer": "ipython3",
   "version": "3.9.13"
  },
  "orig_nbformat": 4
 },
 "nbformat": 4,
 "nbformat_minor": 2
}
