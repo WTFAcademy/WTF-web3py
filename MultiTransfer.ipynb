{
 "cells": [
  {
   "cell_type": "code",
   "execution_count": 1,
   "metadata": {},
   "outputs": [
    {
     "name": "stdout",
     "output_type": "stream",
     "text": [
      "1. 创建HD钱包，用于批量生成地址。\n"
     ]
    }
   ],
   "source": [
    "# 1. 创建HD钱包，用于批量生成地址。\n",
    "print(\"1. 创建HD钱包，用于批量生成地址。\")\n",
    "\n",
    "from web3 import Web3\n",
    "w3 = Web3(Web3.HTTPProvider('https://goerli.infura.io/v3/5be23a050401499fb951be2e12178e01'))\n",
    "# test mnemonic from ganache (don't use it!)\n",
    "mnemonic = \"air organ twist rule prison symptom jazz cheap rather dizzy verb glare jeans orbit weapon universe require tired sing casino business anxiety seminar hunt\"\n",
    "w3.eth.account.enable_unaudited_hdwallet_features()\n"
   ]
  },
  {
   "cell_type": "code",
   "execution_count": 3,
   "metadata": {},
   "outputs": [
    {
     "name": "stdout",
     "output_type": "stream",
     "text": [
      "2. 利用HD钱包，生成10个钱包地址。\n"
     ]
    },
    {
     "data": {
      "text/plain": [
       "['0x83E5B09c54C4EB904B9bC842Acab9218c2297d6d',\n",
       " '0xF44F814ABa3e6BC091487Cf313B49F109550d086',\n",
       " '0xC08A302438EaA60adE93196A527A837AA1CA5A3f',\n",
       " '0x57171534c9616bB635351deB9d4AA009Fc0d6931',\n",
       " '0xFECb70fD6b9414ff7B58C6989D44AFA4a0511D6d',\n",
       " '0x897366fBfD8505dE0D772e2F34CF99ac692a9B15',\n",
       " '0x5412DD89dD6B707fA816a3b8E0BDFe44A46CA152',\n",
       " '0x9c85ee2fFB694A161b59D697ca560Aa2e1a98E6E',\n",
       " '0xaBEC7899686e8FE4658bcce8391Fb4e3A70C8868',\n",
       " '0x7610CfA2931e9D36CD1aF96599a5ed7886561147']"
      ]
     },
     "execution_count": 3,
     "metadata": {},
     "output_type": "execute_result"
    }
   ],
   "source": [
    "# 2. 利用HD钱包，生成10个钱包地址。\n",
    "print(\"2. 利用HD钱包，生成10个钱包地址。\")\n",
    "\n",
    "addresses = []\n",
    "for i in range(10):\n",
    "    address = w3.eth.account.from_mnemonic(mnemonic, account_path=f\"m/44'/60'/0'/0/{i}\")\n",
    "    addresses.append(address.address)\n",
    "addresses"
   ]
  },
  {
   "cell_type": "code",
   "execution_count": 8,
   "metadata": {},
   "outputs": [
    {
     "name": "stdout",
     "output_type": "stream",
     "text": [
      "3. 创建wallet，发送代币用。\n"
     ]
    },
    {
     "data": {
      "text/plain": [
       "'0x338f8891D6BdC58eEB4754352459cC461EfD2a5E'"
      ]
     },
     "execution_count": 8,
     "metadata": {},
     "output_type": "execute_result"
    }
   ],
   "source": [
    "# 3. 创建wallet，发送代币用。\n",
    "print(\"3. 创建wallet，发送代币用。\")\n",
    "\n",
    "private_key = \"0x21ac72b6ce19661adf31ef0d2bf8c3fcad003deee3dc1a1a64f5fa3d6b049c06\"\n",
    "account = w3.eth.account.from_key(private_key)\n",
    "account.address\n"
   ]
  },
  {
   "cell_type": "code",
   "execution_count": 5,
   "metadata": {},
   "outputs": [
    {
     "name": "stdout",
     "output_type": "stream",
     "text": [
      "4. 创建Airdrop合约。\n"
     ]
    },
    {
     "data": {
      "text/plain": [
       "<web3._utils.datatypes.Contract at 0x7feed29c0a00>"
      ]
     },
     "execution_count": 5,
     "metadata": {},
     "output_type": "execute_result"
    }
   ],
   "source": [
    "# 4. 创建Airdrop合约。\n",
    "print(\"4. 创建Airdrop合约。\")\n",
    "\n",
    "# 合约 abi\n",
    "airdrop_abi = '[{\"inputs\":[{\"internalType\":\"uint256[]\",\"name\":\"_arr\",\"type\":\"uint256[]\"}],\"name\":\"getSum\",\"outputs\":[{\"internalType\":\"uint256\",\"name\":\"sum\",\"type\":\"uint256\"}],\"stateMutability\":\"pure\",\"type\":\"function\"},{\"inputs\":[{\"internalType\":\"address payable[]\",\"name\":\"_addresses\",\"type\":\"address[]\"},{\"internalType\":\"uint256[]\",\"name\":\"_amounts\",\"type\":\"uint256[]\"}],\"name\":\"multiTransferETH\",\"outputs\":[],\"stateMutability\":\"payable\",\"type\":\"function\"},{\"inputs\":[{\"internalType\":\"address\",\"name\":\"_token\",\"type\":\"address\"},{\"internalType\":\"address[]\",\"name\":\"_addresses\",\"type\":\"address[]\"},{\"internalType\":\"uint256[]\",\"name\":\"_amounts\",\"type\":\"uint256[]\"}],\"name\":\"multiTransferToken\",\"outputs\":[],\"stateMutability\":\"nonpayable\",\"type\":\"function\"}]'\n",
    "\n",
    "# 合约地址 测试网\n",
    "airdrop_address = '0x71C2aD976210264ff0468d43b198FD69772A25fa'\n",
    "\n",
    "# 创建合约实例\n",
    "airdrop_contract = w3.eth.contract(address=airdrop_address, abi=airdrop_abi)\n",
    "airdrop_contract"
   ]
  },
  {
   "cell_type": "code",
   "execution_count": 6,
   "metadata": {},
   "outputs": [
    {
     "name": "stdout",
     "output_type": "stream",
     "text": [
      "5. 读取一个地址的ETH余额。\n",
      "200000000000000\n"
     ]
    }
   ],
   "source": [
    "# 5. 读取一个地址的ETH余额。\n",
    "print(\"5. 读取一个地址的ETH余额。\")\n",
    "\n",
    "# 目标地址\n",
    "target_address = addresses[8]\n",
    "\n",
    "# 读取 ETH 余额\n",
    "balanceETH = w3.eth.get_balance(target_address)\n",
    "\n",
    "print(balanceETH)"
   ]
  },
  {
   "cell_type": "code",
   "execution_count": 7,
   "metadata": {},
   "outputs": [
    {
     "name": "stdout",
     "output_type": "stream",
     "text": [
      "6. 调用multiTransferETH()函数，给每个钱包转 0.0001 ETH\n",
      "转账后余额： 300000000000000\n"
     ]
    }
   ],
   "source": [
    "# 6. 调用multiTransferETH()函数，给每个钱包转 0.0001 ETH\n",
    "print(\"6. 调用multiTransferETH()函数，给每个钱包转 0.0001 ETH\")\n",
    "\n",
    "# 发起交易\n",
    "amounts = (len(addresses)) * [w3.to_wei(0.0001, 'ether')]\n",
    "# 调用方法\n",
    "tx = airdrop_contract.functions.multiTransferETH(addresses, amounts).build_transaction({\n",
    "    'from': account.address,\n",
    "    'value': w3.to_wei(0.001, 'ether'),\n",
    "    'gas': 2000000,  # 根据需要调整\n",
    "    'nonce': w3.eth.get_transaction_count(account.address)\n",
    "})\n",
    "\n",
    "# 发起交易\n",
    "signed_tx = w3.eth.account.sign_transaction(tx, private_key=private_key)\n",
    "tx_hash = w3.eth.send_raw_transaction(signed_tx.rawTransaction)\n",
    "\n",
    "# 等待交易上链\n",
    "tx_receipt = w3.eth.wait_for_transaction_receipt(tx_hash)\n",
    "\n",
    "balanceETH2 = w3.eth.get_balance(addresses[8])\n",
    "print(\"转账后余额：\", balanceETH2)"
   ]
  },
  {
   "cell_type": "code",
   "execution_count": null,
   "metadata": {},
   "outputs": [],
   "source": []
  }
 ],
 "metadata": {
  "kernelspec": {
   "display_name": "base",
   "language": "python",
   "name": "python3"
  },
  "language_info": {
   "codemirror_mode": {
    "name": "ipython",
    "version": 3
   },
   "file_extension": ".py",
   "mimetype": "text/x-python",
   "name": "python",
   "nbconvert_exporter": "python",
   "pygments_lexer": "ipython3",
   "version": "3.9.13"
  },
  "orig_nbformat": 4
 },
 "nbformat": 4,
 "nbformat_minor": 2
}
